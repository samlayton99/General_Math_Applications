{
 "cells": [
  {
   "cell_type": "code",
   "execution_count": 301,
   "metadata": {},
   "outputs": [],
   "source": [
    "import numpy as np\n",
    "import matplotlib.pyplot as plt\n",
    "from scipy.stats import norm, gamma, beta, uniform"
   ]
  },
  {
   "cell_type": "markdown",
   "metadata": {},
   "source": [
    "# Question 7.6\n",
    "\n",
    "Sampling from the standard normal distribution $10^5$ times, calculate a Monte Carlo estimate of the value of $\\int_{3}^{\\infty}e^{\\frac{x^2}{2}}dx$, and estimate the standard error. Repeat the problem, sampling instead from $\\mathcal{N}(3,1)$, as in (7.2)."
   ]
  },
  {
   "cell_type": "code",
   "execution_count": 302,
   "metadata": {},
   "outputs": [
    {
     "name": "stdout",
     "output_type": "stream",
     "text": [
      "Monte-Carlo Mean: 0.0026570259711088604\n",
      "Monte-Carlo SE: 0.000257936361116443\n",
      "Normal(3,1) Mean : 0.003372038136975122\n",
      "Normal(3,1) SE: 1.9708143993207337e-05\n"
     ]
    }
   ],
   "source": [
    "# Define the integrand function\n",
    "def integrand(x):\n",
    "    return np.exp(-(x ** 2)/2)\n",
    "\n",
    "# Define parameters mu, sigma, and n\n",
    "mu = 3\n",
    "sigma = 1\n",
    "n = 10**5\n",
    "\n",
    "# Define the pdf function for Normal(3, 1)\n",
    "def pdf(x):\n",
    "    return norm.pdf(x, mu, sigma)\n",
    "\n",
    "# Draw the normal and uniform distributions\n",
    "X = np.random.normal(3, 1, n)\n",
    "X1 = np.random.normal(0, 1, n)\n",
    "\n",
    "# We can rewrite the integral as a composition from the indicator function and the pdf with infinite bounds\n",
    "\n",
    "# Make a mask of the distribution if it is greater than 3 and calculate the mean\n",
    "mask = (X1 >= 3) * np.sqrt(2 * np.pi)\n",
    "estimate = np.mean(mask)\n",
    "print(\"Monte-Carlo Mean: \" + str(estimate))\n",
    "\n",
    "# Calculate the standard Error\n",
    "se = np.std(mask) / np.sqrt(n)\n",
    "print(\"Monte-Carlo SE: \" + str(se))\n",
    "\n",
    "# Make an indicator function for the distribution if it is greater than 3\n",
    "def indicator(x, a):\n",
    "    mask = (np.array(x) >= a)\n",
    "    return mask\n",
    "\n",
    "# Repeat the process using the Normal distribution\n",
    "adjustedsample = (indicator(X,3) * integrand(X)) / pdf(X)\n",
    "estimate = np.mean(adjustedsample)\n",
    "print(\"Normal(3,1) Mean : \" + str(estimate))\n",
    "\n",
    "# Calculate the standard Error\n",
    "se = np.std(adjustedsample) / np.sqrt(n)\n",
    "print(\"Normal(3,1) SE: \" + str(se))"
   ]
  },
  {
   "cell_type": "markdown",
   "metadata": {},
   "source": [
    "# Question 7.7\n",
    "\n",
    "Use importance sampling, drawing from Beta $(a,b)$ for various values of $a$ and $b$, to estimate the integral $\\int_{0}^{2\\pi}\\frac{dx}{x^3+x+1}$. Find values of $a$, and $b$ and sample size $n$ that give a standard error less than $10^{-3}$.\n",
    "\n",
    "Hint: The domain of Beta $(a,b)$ is [0,1], but the integral is to be evaluated over $[0,2\\pi]$, so you will need to do a change of variables to be able to calculate this with samples from Beta $(a,b)$."
   ]
  },
  {
   "cell_type": "code",
   "execution_count": 303,
   "metadata": {},
   "outputs": [
    {
     "name": "stdout",
     "output_type": "stream",
     "text": [
      "Importance Sampling Estimate: 0.9085837803013812\n",
      "Importance Sampling SE: 0.000907903469227175\n",
      "Our parameters make our SE less than 0.001\n"
     ]
    }
   ],
   "source": [
    "# u = 2pix so du = 2pi du\n",
    "# let a = 1, and b = 2pi\n",
    "# so the integral is 2pi * integral from 0 to 1 of f(x)dx\n",
    "\n",
    "# Define the integrand function\n",
    "def integrand(x):\n",
    "    return 2 * np.pi / ((2* np.pi * x)**3 +(2* np.pi * x) + 1 )\n",
    "\n",
    "# Define parameters a, b, and n\n",
    "a = 1/5\n",
    "b = 1\n",
    "n = 10**6\n",
    "\n",
    "# Define the pdf function for Beta(1, 2pi)\n",
    "def pdf(x):\n",
    "    return beta.pdf(x, a, b)\n",
    "\n",
    "# Draw from the beta and uniform distributions\n",
    "X = np.random.beta(a, b, n)\n",
    "\n",
    "# Calculate the mean\n",
    "estimate = np.mean(integrand(X) / pdf(X))\n",
    "print(\"Importance Sampling Estimate: \" + str(estimate))\n",
    "\n",
    "# Calculate the standard Error\n",
    "se = np.std(integrand(X) / pdf(X)) / np.sqrt(n)\n",
    "print(\"Importance Sampling SE: \" + str(se))\n",
    "print(\"Our parameters make our SE less than 0.001\")"
   ]
  },
  {
   "cell_type": "markdown",
   "metadata": {},
   "source": [
    "# Question 7.8.iii\n",
    "\n",
    "iii) Thus, a draw from the exponential distribution can be constructed by drawing $u$ from Uniform(0,1) and computing $- \\frac{\\log(1-y)}{\\lambda}$. Write code to implement this, and use your code to draw $10^5$ times from Gamma(1,2). Plot a normed histogram of your results, and, on the same graph, plot the pdf of the exponential distribution for comparison."
   ]
  },
  {
   "cell_type": "code",
   "execution_count": 304,
   "metadata": {},
   "outputs": [
    {
     "data": {
      "text/plain": [
       "[<matplotlib.lines.Line2D at 0x7fd2bd1cc190>]"
      ]
     },
     "execution_count": 304,
     "metadata": {},
     "output_type": "execute_result"
    },
    {
     "data": {
      "image/png": "[encoded data removed]",
      "text/plain": [
       "<Figure size 432x288 with 1 Axes>"
      ]
     },
     "metadata": {
      "needs_background": "light"
     },
     "output_type": "display_data"
    }
   ],
   "source": [
    "# set parameters n, and lambda\n",
    "n = 10**5\n",
    "lam = 2\n",
    "\n",
    "# define the function\n",
    "def function(x):\n",
    "    return -np.log(x) / lam\n",
    "\n",
    "# Define a pdf function\n",
    "def pdf(x):\n",
    "    return lam * np.exp(-lam * x)\n",
    "\n",
    "# draw from the uniform distribution and make it an exponential distribution, also make linspace\n",
    "U = np.random.uniform(0, 1, n)\n",
    "U = function(U)\n",
    "x = np.linspace(0, 5, n)\n",
    "\n",
    "# plot the histogram of the exponential distribution\n",
    "plt.hist(U, bins = 50, density = True)\n",
    "plt.title(\"Exponential Distribution\")\n",
    "plt.plot(x, pdf(x))"
   ]
  },
  {
   "cell_type": "markdown",
   "metadata": {},
   "source": [
    "# Question 7.9.ii-iii\n",
    "\n",
    "ii) Code up the inversion sampling algorithm to sample from the logistic distribution, and use your code to deaw from the logisitc distribution $10^5$ times. Plot a normed histogram of your results, and on the same graph plot the pdf of the logistic distribution for comparison.\n",
    "\n",
    "iii) Using your sample, estimate the mean and variance of the distribution."
   ]
  },
  {
   "cell_type": "code",
   "execution_count": 305,
   "metadata": {},
   "outputs": [
    {
     "name": "stdout",
     "output_type": "stream",
     "text": [
      "Mean: 0.0007484666039932207\n",
      "Variance: 0.010384857185279019\n"
     ]
    },
    {
     "data": {
      "image/png": "[encoded data removed]",
      "text/plain": [
       "<Figure size 432x288 with 1 Axes>"
      ]
     },
     "metadata": {
      "needs_background": "light"
     },
     "output_type": "display_data"
    }
   ],
   "source": [
    "# set parameters n\n",
    "n = 10**5\n",
    "\n",
    "# define the function\n",
    "def function(x):\n",
    "    return np.log(x/(1-x))\n",
    "\n",
    "# Define a pdf function\n",
    "def pdf(x):\n",
    "    return np.exp(-x) / (1 + np.exp(-x))**2\n",
    "\n",
    "# draw from the uniform distribution and make it an exponential distribution, also make linspace\n",
    "U = np.random.uniform(0, 1, n)\n",
    "U = function(U)\n",
    "x = np.linspace(-10, 10, n)\n",
    "\n",
    "# plot the histogram of the exponential distribution\n",
    "plt.hist(U, bins = 50, density = True)\n",
    "plt.title(\"Logistic Distribution\")\n",
    "plt.plot(x, pdf(x))\n",
    "\n",
    "# Estimate the mean and the variance of the sample\n",
    "mean = np.mean(U)\n",
    "var = np.var(U) / np.sqrt(n)\n",
    "print(\"Mean: \" + str(mean))\n",
    "print(\"Variance: \" + str(var))"
   ]
  },
  {
   "cell_type": "markdown",
   "metadata": {},
   "source": [
    "# Question 7.10\n",
    "\n",
    "Code up a method for estimating the volume oof the unit ball in $d$-dimensional space using rejection sampling. Compute estimates for these values for $d\\in \\{1,\\dots,10\\}$ using enough samples to get a standard error less than $10^{-2}$."
   ]
  },
  {
   "cell_type": "code",
   "execution_count": 306,
   "metadata": {},
   "outputs": [
    {
     "name": "stdout",
     "output_type": "stream",
     "text": [
      "Volume of 1-D: 2.0\n",
      "Error of 1-D: 0.0\n",
      "Volume of 2-D: 3.138648\n",
      "Error of 2-D: 0.0016442264844284623\n",
      "Volume of 3-D: 4.18956\n",
      "Error of 3-D: 0.00399550585112824\n",
      "Volume of 4-D: 4.938064\n",
      "Error of 4-D: 0.007390842166621069\n",
      "Volume of 5-D: 5.281792\n",
      "Error of 5-D: 0.01187939465076971\n",
      "Volume of 6-D: 5.150208\n",
      "Error of 6-D: 0.01740944196569023\n",
      "Volume of 7-D: 4.73792\n",
      "Error of 7-D: 0.024166213482331066\n",
      "Volume of 8-D: 4.015104\n",
      "Error of 8-D: 0.03180794812415891\n",
      "Volume of 9-D: 3.337216\n",
      "Error of 9-D: 0.04120094151071483\n",
      "Volume of 10-D: 2.619392\n",
      "Error of 10-D: 0.05172423216975131\n"
     ]
    }
   ],
   "source": [
    "# set parameters n and dimensions d\n",
    "n = 10**6\n",
    "d = [1, 2, 3, 4, 5, 6, 7, 8, 9, 10]\n",
    "\n",
    "# loop through all 10 dimensions\n",
    "for i in d:\n",
    "    subtract = 0\n",
    "\n",
    "    # loop through all n samples and draw from the uniform distribution\n",
    "    for j in range(n):\n",
    "        sum = 0\n",
    "        U = np.random.uniform(0, 1,i)\n",
    "\n",
    "        # loop through you uniform distribution to see if it is in the unit ball\n",
    "        for k in U:\n",
    "            sum += k **2\n",
    "\n",
    "            # if it is out of the unit ball, subtract 1 from the total\n",
    "            if sum > 1:\n",
    "                subtract += 1\n",
    "                break\n",
    "\n",
    "    # Construct a vector of 1's, and subtract the number of samples that are out of the unit ball\n",
    "    x = np.ones(n)\n",
    "    for t in range(subtract):\n",
    "        x[t] = 0\n",
    "\n",
    "    # Scale the vector by the volume of the unit ball\n",
    "    x = x * 2 ** i\n",
    "\n",
    "    # Calculate the mean and the variance and then print them\n",
    "    print(\"Volume of \" + str(i)+\"-D: \" + str(np.mean(x)))\n",
    "    print(\"Error of \" + str(i)+\"-D: \" + str(np.std(x) / np.sqrt(n)))"
   ]
  },
  {
   "cell_type": "markdown",
   "metadata": {},
   "source": [
    "# Question 7.11\n",
    "\n",
    "Let $P$ be a distribution on $[0,\\infty)$ with pdf equal to $f_{P} = \\frac{1}{Z}e^{-x^2-x^3}$ for sampling with proposal distribution $Q \\sim \\text{Gamma}(1,1)$ to sample from this distribution as follows:\n",
    "\n",
    "i) Find the smallest $m$ for which $e^{-x^2-x^3} \\leq me^{-x}$\n",
    "\n",
    "ii) Find the smallest $M$ (expressed in terms of $m$ and $Z$) for which $f_{P}\\leq Mf_{Q}(x)$ for all $x\\in [0, \\infty)$. Show that the quanity $\\frac{f_{P}(x)}{Mf_{Q}(x)}$ can be computed without knowing $Z$.\n",
    "\n",
    "iii) Code up a rejection sampler that draws $z$ from Gamma(1,1) (using either a sample you wrote for Exercise 7.8 or another sampler), draws $u$ from Uniform([0,1]), and reject any $z$ such that the corresponding $u$ is greater than $\\frac{f_{P}(z)}{Mf_{Q}(z)}$.\n",
    "\n",
    "iv) Use your sampling method to draw $10^5$ times from $P$, and plot a normed histogram of the results, along with a plot of the pdf $f_{P}(x)$ (this last plot will require you to approximate $Z$)."
   ]
  },
  {
   "cell_type": "code",
   "execution_count": 307,
   "metadata": {},
   "outputs": [
    {
     "data": {
      "image/png": "[encoded data removed]",
      "text/plain": [
       "<Figure size 432x288 with 1 Axes>"
      ]
     },
     "metadata": {
      "needs_background": "light"
     },
     "output_type": "display_data"
    }
   ],
   "source": [
    "# set parameters n and m \n",
    "n = 10**5\n",
    "m = np.exp(5/27)\n",
    "\n",
    "# draw from the Gamma and uniform distributions\n",
    "draw = np.array(gamma.rvs(1, size = n))\n",
    "U = np.random.uniform(0, 1, n)\n",
    "\n",
    "# Define the function\n",
    "def function(x):\n",
    "    return np.exp(-x**2 -x**3)\n",
    "\n",
    "# Define the pdf function\n",
    "def pdf(x):\n",
    "    return np.exp(-x)\n",
    "\n",
    "# calculate the ratio of the function and the pdf\n",
    "dist = []\n",
    "j = 0\n",
    "\n",
    "# loop through the Gamma distribution and calculate the ratio\n",
    "for i in draw:\n",
    "    if U[j] < function(i) / (m * pdf(i)):\n",
    "        dist.append(i)\n",
    "    j += 1\n",
    "    \n",
    "# plot the histogram of the distribution\n",
    "plt.hist(dist, bins = 50, density = True)\n",
    "plt.title(\"Distribution of X\")\n",
    "\n",
    "# get the linspace and plot the function\n",
    "x = np.linspace(0, 10, 1000)\n",
    "plt.plot(x, function(x)/.6637)\n",
    "plt.show()"
   ]
  },
  {
   "cell_type": "code",
   "execution_count": null,
   "metadata": {},
   "outputs": [],
   "source": []
  }
 ],
 "metadata": {
  "kernelspec": {
   "display_name": "Python 3 (ipykernel)",
   "language": "python",
   "name": "python3"
  },
  "language_info": {
   "codemirror_mode": {
    "name": "ipython",
    "version": 3
   },
   "file_extension": ".py",
   "mimetype": "text/x-python",
   "name": "python",
   "nbconvert_exporter": "python",
   "pygments_lexer": "ipython3",
   "version": "3.9.12"
  },
  "vscode": {
   "interpreter": {
    "hash": "189301e0f9a235507609aef08263a8d43bd43439da6249718726c46867f0077d"
   }
  }
 },
 "nbformat": 4,
 "nbformat_minor": 4
}
